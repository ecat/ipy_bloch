{
 "cells": [
  {
   "cell_type": "raw",
   "metadata": {},
   "source": [
    "<script>\n",
    "/*\n",
    " * modified from: http://chris-said.io/2016/02/13/how-to-make-polished-jupyter-presentations-with-optional-code-visibility/\n",
    " * div_class_name must match the tag of the cell in jupyter-notebook\n",
    " */\n",
    "    function code_toggle(button, div_class_name ) {\n",
    "        // lazy init button\n",
    "\n",
    "        if (typeof button.code_shown === 'undefined'){ \n",
    "            button.code_shown = false\n",
    "        }\n",
    "\n",
    "        code_shown = button.code_shown\n",
    "\n",
    "        if (code_shown){\n",
    "          $('div.' + div_class_name).hide('500');\n",
    "          $('#' + 'toggleButton' + div_class_name).val('Show Answer')\n",
    "        } else {\n",
    "          $('div.' + div_class_name).show('500');\n",
    "          $('#' + 'toggleButton' + div_class_name).val('Hide Answer')\n",
    "        }\n",
    "        button.code_shown = !code_shown\n",
    "    }\n",
    "\n",
    "    /*\n",
    "     * Hide code divs when document is loaded\n",
    "     */\n",
    "    $( document ).ready(function(){\n",
    "        $('div.' + 'AnswerA2').hide()\n",
    "    });\n",
    "</script>"
   ]
  },
  {
   "cell_type": "markdown",
   "metadata": {},
   "source": [
    "# Bloch Equation Simulation\n",
    "\n",
    "\n",
    "In a classical description of nuclear magnetic resonance (NMR), motion of a single \"species\" obeys the Bloch Equation. The well-known solution of the Bloch Equation consists of T1 and T2 relaxation and precession. Bloch simulation is the most accurate way to study the effect of a pulse sequence on magnetization. This tutorial provides a series of exercises to allow the reader to develop effective Bloch Equation simulations. A useful library of functions is created during the tutorial and answers in both Python and MATLAB are provided. \n",
    "\n",
    "----------------"
   ]
  },
  {
   "cell_type": "markdown",
   "metadata": {},
   "source": [
    "# Introduction\n",
    "\n",
    "---------------"
   ]
  },
  {
   "cell_type": "markdown",
   "metadata": {},
   "source": [
    "# A | Matrix Basics\n",
    "\n",
    "## Objectives\n",
    "\n",
    "    1. Express magnetization as a 3x1 vector.\n",
    "    2. Express T2-relaxation in matrix form.\n",
    "    3. Express T1-relaxation in matrix form.\n",
    "    4. Develop functions to perform rotations.\n",
    "    5. Calculate combined relaxation/precession effects. \n",
    "    \n"
   ]
  },
  {
   "cell_type": "markdown",
   "metadata": {},
   "source": [
    "## A-1 | Vectors"
   ]
  },
  {
   "cell_type": "markdown",
   "metadata": {},
   "source": [
    "## A-2 | Transverse Relaxation\n",
    "\n",
    "Transverse relaxation is an exponential decay process of the $x$ and $y$ components of magnetization. This decay is always occuring. Mathematically this means: \n",
    "\n",
    "$$M_x(t)= M_x(0)e^{-t/T2}$$\n",
    "\n",
    "$$M_y(t)= M_y(0)e^{-t/T2}$$"
   ]
  },
  {
   "cell_type": "markdown",
   "metadata": {},
   "source": [
    "Assume $M$ consists of only an $x$ component. Let $T2 = 100$ ms. Ignoring other effects, what is the magnetization vector due to T2-decay after $50$ ms?"
   ]
  },
  {
   "cell_type": "raw",
   "metadata": {},
   "source": [
    "<form> \n",
    "    <input type=\"button\" id=\"toggleButtonAnswerA2\" value=\"Show Answer\" onclick=\"code_toggle(this, 'AnswerA2')\">\n",
    "</form>"
   ]
  },
  {
   "cell_type": "code",
   "execution_count": 3,
   "metadata": {
    "tags": [
     "AnswerA2"
    ]
   },
   "outputs": [
    {
     "name": "stdout",
     "output_type": "stream",
     "text": [
      "Hello World!\n"
     ]
    }
   ],
   "source": [
    "import numpy as np\n",
    "\n",
    "print 'Hello World!'"
   ]
  }
 ],
 "metadata": {
  "celltoolbar": "Tags",
  "kernelspec": {
   "display_name": "Python 2",
   "language": "python",
   "name": "python2"
  },
  "language_info": {
   "codemirror_mode": {
    "name": "ipython",
    "version": 2
   },
   "file_extension": ".py",
   "mimetype": "text/x-python",
   "name": "python",
   "nbconvert_exporter": "python",
   "pygments_lexer": "ipython2",
   "version": "2.7.6"
  }
 },
 "nbformat": 4,
 "nbformat_minor": 2
}
