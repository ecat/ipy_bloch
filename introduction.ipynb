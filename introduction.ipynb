{
 "cells": [
  {
   "cell_type": "raw",
   "metadata": {},
   "source": [
    "<script>\n",
    "/*\n",
    " * modified from: http://chris-said.io/2016/02/13/how-to-make-polished-jupyter-presentations-with-optional-code-visibility/\n",
    " * div_class_name must match the tag of the cell in jupyter-notebook\n",
    " */\n",
    "    function code_toggle(button, div_class_name ) {\n",
    "        // lazy init button\n",
    "\n",
    "        if (typeof button.code_shown === 'undefined'){ \n",
    "            button.code_shown = false\n",
    "        }\n",
    "\n",
    "        code_shown = button.code_shown\n",
    "\n",
    "        if (code_shown){\n",
    "          $('div.' + div_class_name).hide('500');\n",
    "          $('#' + 'toggleButton' + div_class_name).val('Show Answer')\n",
    "        } else {\n",
    "          $('div.' + div_class_name).show('500');\n",
    "          $('#' + 'toggleButton' + div_class_name).val('Hide Answer')\n",
    "        }\n",
    "        button.code_shown = !code_shown\n",
    "    }\n",
    "\n",
    "    /*\n",
    "     * Hide code divs when document is loaded\n",
    "     */\n",
    "    $( document ).ready(function(){\n",
    "        $('div.output_stderr').hide()\n",
    "        \n",
    "        $('div.' + 'AnswerA2a').hide()\n",
    "        $('div.' + 'AnswerA2b').hide()\n",
    "        $('div.' + 'AnswerA3').hide()\n",
    "        $('div.' + 'AnswerA4a').hide()\n",
    "        $('div.' + 'AnswerA4b').hide()\n",
    "        $('div.' + 'AnswerA4c').hide()\n",
    "    });\n",
    "</script>"
   ]
  },
  {
   "cell_type": "markdown",
   "metadata": {},
   "source": [
    "# Bloch Equation Simulation\n",
    "\n",
    "\n",
    "In a classical description of nuclear magnetic resonance (NMR), motion of a single \"species\" obeys the Bloch Equation. The well-known solution of the Bloch Equation consists of T1 and T2 relaxation and precession. Bloch simulation is the most accurate way to study the effect of a pulse sequence on magnetization. This tutorial provides a series of exercises to allow the reader to develop effective Bloch Equation simulations. A useful library of functions is created during the tutorial and answers in both Python and MATLAB are provided. \n",
    "\n",
    "----------------"
   ]
  },
  {
   "cell_type": "markdown",
   "metadata": {},
   "source": [
    "# Introduction\n",
    "\n",
    "---------------"
   ]
  },
  {
   "cell_type": "markdown",
   "metadata": {},
   "source": [
    "# A | Matrix Basics\n",
    "---------------\n",
    "\n",
    "## Objectives\n",
    "\n",
    "    1. Express magnetization as a 3x1 vector.\n",
    "    2. Express T2-relaxation in matrix form.\n",
    "    3. Express T1-relaxation in matrix form.\n",
    "    4. Develop functions to perform rotations.\n",
    "    5. Calculate combined relaxation/precession effects. \n",
    "    \n"
   ]
  },
  {
   "cell_type": "markdown",
   "metadata": {},
   "source": [
    "## A-1 | Vectors\n",
    "---------------\n",
    "We will always work in the rotating reference frame; that is we assume that on-resonant magnetization does not precess. We start by assuming that the equilibrium magnetization vector is $[0, 0, 1]'$, where the $'$ denotes the transpose."
   ]
  },
  {
   "cell_type": "markdown",
   "metadata": {},
   "source": [
    "## A-2 | Transverse Relaxation\n",
    "---------------\n",
    "Transverse relaxation is an exponential decay process of the $x$ and $y$ components of magnetization. This decay is always occuring. Mathematically this means:  \n",
    "\n",
    "$$M_x(t)= M_x(0)e^{-t/T2}$$\n",
    "$$M_y(t)= M_y(0)e^{-t/T2}$$"
   ]
  },
  {
   "cell_type": "markdown",
   "metadata": {},
   "source": [
    "### A-2a\n",
    "\n",
    "Assume $M$ consists of only an $x$ component normalized to $1$. Let $T2 = 100$ ms. Ignoring other effects, what is the magnetization vector due to T2-decay after $50$ ms? \n"
   ]
  },
  {
   "cell_type": "raw",
   "metadata": {},
   "source": [
    "<div class=\"cell border-box-sizing text_cell rendered\">\n",
    "    <div class=\"prompt input_prompt\"></div>\n",
    "    <div style=\"text-align:center;\">\n",
    "    <form> \n",
    "        <input type=\"button\" id=\"toggleButtonAnswerA2a\" value=\"Show Answer\" onclick=\"code_toggle(this, 'AnswerA2a')\">\n",
    "    </form>\n",
    "    </div>\n",
    "</div>"
   ]
  },
  {
   "cell_type": "code",
   "execution_count": 1,
   "metadata": {
    "tags": [
     "AnswerA2a"
    ]
   },
   "outputs": [
    {
     "name": "stdout",
     "output_type": "stream",
     "text": [
      "\n",
      "M_1 =\n",
      "\n",
      "    0.6065\n",
      "         0\n",
      "         0\n",
      "\n"
     ]
    }
   ],
   "source": [
    "T2 = 100; % ms\n",
    "t = 50; % ms\n",
    "\n",
    "M_1 = [1; 0; 0 ] * exp(-t/T2)"
   ]
  },
  {
   "cell_type": "markdown",
   "metadata": {},
   "source": [
    "### A-2b\n",
    "\n",
    "Instead of a simple multiplication, express the magnetization vector as a matrix product $M_1 = A * M$ where A is a $3 \\times 3$ matrix. What is the matrix A?"
   ]
  },
  {
   "cell_type": "raw",
   "metadata": {},
   "source": [
    "<div class=\"cell border-box-sizing text_cell rendered\">\n",
    "    <div class=\"prompt input_prompt\"></div>\n",
    "    <div style=\"text-align:center;\">\n",
    "    <form> \n",
    "        <input type=\"button\" id=\"toggleButtonAnswerA2b\" value=\"Show Answer\" onclick=\"code_toggle(this, 'AnswerA2b')\">\n",
    "    </form>\n",
    "    </div>\n",
    "</div>"
   ]
  },
  {
   "cell_type": "code",
   "execution_count": 2,
   "metadata": {
    "tags": [
     "AnswerA2b"
    ]
   },
   "outputs": [
    {
     "name": "stdout",
     "output_type": "stream",
     "text": [
      "\n",
      "A =\n",
      "\n",
      "    0.6065         0         0\n",
      "         0    0.6065         0\n",
      "         0         0    1.0000\n",
      "\n"
     ]
    }
   ],
   "source": [
    "T2 = 100; %ms\n",
    "t = 50; %ms\n",
    "\n",
    "A = [exp(-t/T2) 0, 0;0, exp(-t/T2), 0; 0, 0, 1]"
   ]
  },
  {
   "cell_type": "markdown",
   "metadata": {},
   "source": [
    "## A-3 | Longitudinal Relaxation\n",
    "---------------\n",
    "\n",
    "Longitudinal $(z)$ relaxation is a bit more complicated than transverse relaxation. The magnetization recovers exponentially with a time constant T1, to a non-zero value, often called $M_0$. Mathematically, we write:\n",
    "\n",
    "$$M_z(t)= M_0+[M_z(0)-M_0]e^{-t/T1}$$\n",
    "\n",
    "In most of this tutorial, we calculate all magnetization and signal levels as fractions of $M_0$, so we assume that $M_0=1$.\n",
    "\n",
    "T1-relaxation is a bit more difficult, because it is non-linear. However, you should be able to express T1-relaxation in a nice matrix form $M_1=A*M+B$ as before, but with the addition of the $3 \\times 1$ vector $B$. We know that the T1 and T2 relaxation effects happen independently. T1 relaxation affects only longitudinal magnetization, and T2 relaxation only affects transverse magnetization. \n",
    "\n",
    "Simulate both T1 and T2 relaxation over $50$ ms for $T1=600$ ms and $T2=100$ ms, in the form $M1=A*M+B$. What are $A$ and $B$?"
   ]
  },
  {
   "cell_type": "raw",
   "metadata": {},
   "source": [
    "<div class=\"cell border-box-sizing text_cell rendered\">\n",
    "    <div class=\"prompt input_prompt\"></div>\n",
    "    <div style=\"text-align:center;\">\n",
    "    <form> \n",
    "        <input type=\"button\" id=\"toggleButtonAnswerA3\" value=\"Show Answer\" onclick=\"code_toggle(this, 'AnswerA3')\">\n",
    "    </form>\n",
    "    </div>\n",
    "</div>"
   ]
  },
  {
   "cell_type": "code",
   "execution_count": 3,
   "metadata": {
    "tags": [
     "AnswerA3"
    ]
   },
   "outputs": [
    {
     "name": "stdout",
     "output_type": "stream",
     "text": [
      "\n",
      "A =\n",
      "\n",
      "    0.6065         0         0\n",
      "         0    0.6065         0\n",
      "         0         0    0.9200\n",
      "\n",
      "\n",
      "B =\n",
      "\n",
      "         0\n",
      "         0\n",
      "    0.0800\n",
      "\n"
     ]
    }
   ],
   "source": [
    "T1 = 600; % ms\n",
    "T2 = 100; % ms\n",
    "t = 50; % ms\n",
    "\n",
    "\n",
    "A = [exp(-t/T2), 0, 0;0, exp(-t/T2), 0; 0, 0, exp(-t/T1)]\n",
    "B = [0, 0, 1-exp(-t/T1)]'"
   ]
  },
  {
   "cell_type": "markdown",
   "metadata": {},
   "source": [
    "## A-4 | Rotations: Precession and Excitation\n",
    "---------------\n",
    "\n",
    "### A-4a\n",
    "\n",
    "Now we want to simulate precession. Precession is a rotation of the magnetization vector about the $z$ axis. With matrices, we can express this in the form $M1=R_z*M$, where $R_z$ is a $3 \\times 3$ matrix. What is $R_z$ if we want to rotate by an angle $\\phi$? "
   ]
  },
  {
   "cell_type": "raw",
   "metadata": {},
   "source": [
    "<div class=\"cell border-box-sizing text_cell rendered\">\n",
    "    <div class=\"prompt input_prompt\"></div>\n",
    "    <div style=\"text-align:center;\">\n",
    "    <form> \n",
    "        <input type=\"button\" id=\"toggleButtonAnswerA4a\" value=\"Show Answer\" onclick=\"code_toggle(this, 'AnswerA4a')\">\n",
    "    </form>\n",
    "    </div>\n",
    "</div>"
   ]
  },
  {
   "cell_type": "markdown",
   "metadata": {
    "tags": [
     "AnswerA4a"
    ]
   },
   "source": [
    "\\begin{equation*}\n",
    "R_z =  \\left[ \\begin{array}{ccc}\n",
    "\\cos{\\phi} & -\\sin{\\phi} & 0 \\\\\n",
    "\\sin{\\phi} &  \\cos{\\phi} & 0 \\\\\n",
    "0 &  0 & 1\n",
    "\\end{array}\n",
    "\\right]\n",
    "\\end{equation*}"
   ]
  },
  {
   "cell_type": "markdown",
   "metadata": {},
   "source": [
    "### A-4b\n",
    "\n",
    "You are going to use this over and over. Write a function with the syntax ``` def zrot(phi):``` if using Python or ``` function Rz=zrot(phi)``` if using MatLab. Test your function to convince yourself that it works. We assume right-handed coordinates and rotations."
   ]
  },
  {
   "cell_type": "raw",
   "metadata": {},
   "source": [
    "<div class=\"cell border-box-sizing text_cell rendered\">\n",
    "    <div class=\"prompt input_prompt\"></div>\n",
    "    <div style=\"text-align:center;\">\n",
    "    <form> \n",
    "        <input type=\"button\" id=\"toggleButtonAnswerA4b\" value=\"Show Answer\" onclick=\"code_toggle(this, 'AnswerA4b')\">\n",
    "    </form>\n",
    "    </div>\n",
    "</div>"
   ]
  },
  {
   "cell_type": "code",
   "execution_count": null,
   "metadata": {
    "collapsed": true,
    "tags": [
     "AnswerA4b"
    ]
   },
   "outputs": [],
   "source": [
    "function Rz=zrot(phi)\n",
    "% phi in radians\n",
    "    Rz = [cos(phi) -sin(phi) 0;sin(phi) cos(phi) 0; 0 0 1];\n",
    "end\n"
   ]
  },
  {
   "cell_type": "markdown",
   "metadata": {},
   "source": [
    "### A-4c\n",
    "\n",
    "Now what about excitation? That is also a rotation. For now we can assume that it is a rotation about the $x$ or $y$ axis. Write the functions ```xrot``` and ```yrot```, similar to ```zrot```, and convince yourself that they work. "
   ]
  },
  {
   "cell_type": "raw",
   "metadata": {},
   "source": [
    "<div class=\"cell border-box-sizing text_cell rendered\">\n",
    "    <div class=\"prompt input_prompt\"></div>\n",
    "    <div style=\"text-align:center;\">\n",
    "    <form> \n",
    "        <input type=\"button\" id=\"toggleButtonAnswerA4c\" value=\"Show Answer\" onclick=\"code_toggle(this, 'AnswerA4c')\">\n",
    "    </form>\n",
    "    </div>\n",
    "</div>"
   ]
  },
  {
   "cell_type": "code",
   "execution_count": null,
   "metadata": {
    "collapsed": true,
    "tags": [
     "AnswerA4c"
    ]
   },
   "outputs": [],
   "source": [
    "function Ry=yrot(phi)\n",
    "    Ry = [cos(phi) 0 sin(phi);0 1 0;-sin(phi) 0 cos(phi)];\n",
    "end\n",
    "\n",
    "function Rx=xrot(phi)\n",
    "    Rx = [1 0 0; 0 cos(phi) -sin(phi);0 sin(phi) cos(phi)];\n",
    "end\n",
    "\n",
    "\n"
   ]
  }
 ],
 "metadata": {
  "celltoolbar": "Tags",
  "kernelspec": {
   "display_name": "Matlab",
   "language": "matlab",
   "name": "matlab"
  },
  "language_info": {
   "codemirror_mode": "octave",
   "file_extension": ".m",
   "help_links": [
    {
     "text": "MetaKernel Magics",
     "url": "https://github.com/calysto/metakernel/blob/master/metakernel/magics/README.md"
    }
   ],
   "mimetype": "text/x-matlab",
   "name": "matlab",
   "version": "0.14.3"
  }
 },
 "nbformat": 4,
 "nbformat_minor": 2
}
